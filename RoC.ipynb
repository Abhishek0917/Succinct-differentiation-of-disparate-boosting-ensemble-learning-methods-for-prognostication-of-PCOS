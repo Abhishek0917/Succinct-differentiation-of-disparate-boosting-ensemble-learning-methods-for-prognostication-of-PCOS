{
 "cells": [
  {
   "cell_type": "code",
   "execution_count": 1,
   "metadata": {},
   "outputs": [],
   "source": [
    "import numpy as np\n",
    "import pandas as pd\n",
    "import seaborn as sns\n",
    "import matplotlib.pyplot as plt\n",
    "import plotly.graph_objects as go\n",
    "from collections import Counter\n",
    "\n",
    "from sklearn.ensemble import BaggingClassifier\n",
    "from sklearn.model_selection import train_test_split\n",
    "from sklearn.ensemble import RandomForestClassifier\n",
    "from sklearn.ensemble import GradientBoostingClassifier\n",
    "from sklearn.ensemble import BaggingClassifier\n",
    "from sklearn.ensemble import AdaBoostClassifier\n",
    "from sklearn import tree\n",
    "import xgboost as xgb\n",
    "from catboost import CatBoostClassifier\n",
    "\n",
    "from sklearn.model_selection import StratifiedKFold, GridSearchCV\n",
    "from mlxtend.plotting import plot_confusion_matrix\n",
    "from sklearn.metrics import confusion_matrix, accuracy_score\n",
    "from sklearn.metrics import roc_curve, auc"
   ]
  },
  {
   "cell_type": "code",
   "execution_count": 2,
   "metadata": {},
   "outputs": [],
   "source": [
    "df = pd.read_csv('PCOS.csv')\n",
    "\n",
    "df.columns = ['time','diagnosed','result','age','overweight','weightgain','periods','conceiving','chinHair','cheeksHair',\n",
    "              'upperLipHair','betweenBreastHair','armsHair','innerThighHair','acneOrskinTag','hairThinning','darkPatch',\n",
    "              'tiredness','moodSwings','exercise','eatOutside','cannedFood','city']\n",
    "\n",
    "data = pd.DataFrame(df[df.diagnosed == 'Yes'])\n",
    "data.reset_index(drop = True, inplace = True)\n",
    "data.drop('time', axis = 1, inplace = True)\n",
    "data.weightgain.fillna('abc', inplace = True)"
   ]
  },
  {
   "cell_type": "code",
   "execution_count": 3,
   "metadata": {},
   "outputs": [],
   "source": [
    "def g(s):\n",
    "    if (s == 'Yes'):\n",
    "        return 1\n",
    "    if (s == 'No'):\n",
    "        return 0\n",
    "    if (s == 'YES'):\n",
    "        return 1\n",
    "    if (s == 'NO'):\n",
    "        return 0\n",
    "    if (s == 'abc'):\n",
    "        return 2\n",
    "\n",
    "data['Diagnosed'] = data.diagnosed.apply(g)\n",
    "data['Overweight'] = data.overweight.apply(g)\n",
    "data['Weightgain'] = data.weightgain.apply(g)\n",
    "data['Periods'] = data.periods.apply(g)\n",
    "data['Conceiving'] = data.conceiving.apply(g)\n",
    "data['AcneOrskinTag'] = data.acneOrskinTag.apply(g)\n",
    "data['HairThinning'] = data.hairThinning.apply(g)\n",
    "data['DarkPatch'] = data.darkPatch.apply(g)\n",
    "data['Tiredness'] = data.tiredness.apply(g)\n",
    "data['MoodSwings'] = data.moodSwings.apply(g)\n",
    "data['CannedFood'] = data.cannedFood.apply(g)\n",
    "data['City'] = data.city.apply(g)\n",
    "\n",
    "del data['diagnosed']\n",
    "del data['overweight']\n",
    "del data['weightgain']\n",
    "del data['periods']\n",
    "del data['conceiving']\n",
    "del data['acneOrskinTag']\n",
    "del data['hairThinning']\n",
    "del data['darkPatch']\n",
    "del data['tiredness']\n",
    "del data['moodSwings']\n",
    "del data['cannedFood']\n",
    "del data['city']"
   ]
  },
  {
   "cell_type": "code",
   "execution_count": 4,
   "metadata": {},
   "outputs": [],
   "source": [
    "data['result'] = data['result'].map({'Yes': 1, 'No': 0, 'Yes(Detected Positive)': 1, 'No(Detected Negative)': 0})\n",
    "\n",
    "X = data.drop(labels = [\"result\"],axis = 1)\n",
    "y = data.result\n",
    "\n",
    "X_train, X_test, y_train, y_test = train_test_split(X, y, test_size = 0.3)"
   ]
  },
  {
   "cell_type": "code",
   "execution_count": 5,
   "metadata": {},
   "outputs": [],
   "source": [
    "from joblib import load"
   ]
  },
  {
   "cell_type": "code",
   "execution_count": 6,
   "metadata": {},
   "outputs": [],
   "source": [
    "ada_clf = load('./savedModels/adaBoost.sav')\n",
    "gb_clf = load('./savedModels/gradBoost.sav')\n",
    "xgb_clf = load('./savedModels/xgBoost.sav')\n",
    "cat_clf = load('./savedModels/catBoostJoblib.sav')"
   ]
  },
  {
   "cell_type": "code",
   "execution_count": 7,
   "metadata": {},
   "outputs": [],
   "source": [
    "from scipy import stats\n",
    "\n",
    "pred_ada = ada_clf.predict(X_test)\n",
    "pred_gb = gb_clf.predict(X_test)\n",
    "pred_xgb = xgb_clf.predict(X_test)\n",
    "pred_cat = cat_clf.predict(X_test)\n",
    "\n",
    "final_pred = np.array([])\n",
    "for i in range(0,len(X_test)):\n",
    "    final_pred = np.append(final_pred, stats.mode([pred_ada[i], pred_gb[i], pred_xgb[i], pred_cat[i]]))"
   ]
  },
  {
   "cell_type": "code",
   "execution_count": 8,
   "metadata": {},
   "outputs": [],
   "source": [
    "ada_prob_y_pred = ada_clf.predict_proba(X_test)\n",
    "gb_prob_y_pred = gb_clf.predict_proba(X_test)\n",
    "xgb_prob_y_pred = xgb_clf.predict_proba(X_test)\n",
    "cat_prob_y_pred = cat_clf.predict_proba(X_test)"
   ]
  },
  {
   "cell_type": "code",
   "execution_count": 9,
   "metadata": {},
   "outputs": [],
   "source": [
    "ada_fpr, ada_tpr, ada_threshold = roc_curve(y_test, ada_prob_y_pred[:,1])\n",
    "ada_auc = auc(ada_fpr, ada_tpr)\n",
    "\n",
    "gb_fpr, gb_tpr, gb_threshold = roc_curve(y_test, gb_prob_y_pred[:,1])\n",
    "gb_auc = auc(gb_fpr, gb_tpr)\n",
    "\n",
    "xgb_fpr, xgb_tpr, xgb_threshold = roc_curve(y_test, xgb_prob_y_pred[:,1])\n",
    "xgb_auc = auc(xgb_fpr, xgb_tpr)\n",
    "\n",
    "cat_fpr, cat_tpr, cat_threshold = roc_curve(y_test, cat_prob_y_pred[:,1])\n",
    "cat_auc = auc(cat_fpr, cat_tpr)"
   ]
  },
  {
   "cell_type": "code",
   "execution_count": 10,
   "metadata": {},
   "outputs": [
    {
     "data": {
      "text/plain": [
       "[]"
      ]
     },
     "execution_count": 10,
     "metadata": {},
     "output_type": "execute_result"
    },
    {
     "data": {
      "image/png": "[encoded data removed]",
      "text/plain": [
       "<Figure size 432x288 with 1 Axes>"
      ]
     },
     "metadata": {
      "needs_background": "light"
     },
     "output_type": "display_data"
    }
   ],
   "source": [
    "plt.figure()\n",
    "\n",
    "plt.plot(ada_fpr, ada_tpr, label = 'ADA Boost %0.2f'%ada_auc)\n",
    "plt.plot(gb_fpr, gb_tpr, label = 'Gradient boosting %0.2f'%gb_auc)\n",
    "plt.plot(xgb_fpr, xgb_tpr, label = 'XBG %0.2f'%xgb_auc)\n",
    "plt.plot(cat_fpr, cat_tpr, label = 'Cat Boost %0.2f'%cat_auc)\n",
    "\n",
    "plt.plot([0,1],[0,1],'r-')\n",
    "plt.legend()\n",
    "plt.xlabel('False Positive Rate')\n",
    "plt.ylabel('True Positive Rate')\n",
    "plt.plot()"
   ]
  },
  {
   "cell_type": "code",
   "execution_count": 11,
   "metadata": {
    "scrolled": false
   },
   "outputs": [
    {
     "data": {
      "text/plain": [
       "array([0.   , 0.   , 0.   , 0.125, 0.125, 0.125, 0.125, 0.125, 0.125,\n",
       "       0.25 , 0.25 , 0.375, 0.375, 0.5  , 0.5  , 1.   ])"
      ]
     },
     "execution_count": 11,
     "metadata": {},
     "output_type": "execute_result"
    }
   ],
   "source": [
    "ada_fpr"
   ]
  },
  {
   "cell_type": "code",
   "execution_count": 12,
   "metadata": {},
   "outputs": [
    {
     "data": {
      "text/plain": [
       "array([0.   , 0.   , 0.   , 0.   , 0.   , 0.   , 0.   , 0.   , 0.   ,\n",
       "       0.125, 0.125, 0.125, 0.125, 0.25 , 0.25 , 0.25 , 1.   ])"
      ]
     },
     "execution_count": 12,
     "metadata": {},
     "output_type": "execute_result"
    }
   ],
   "source": [
    "gb_fpr"
   ]
  },
  {
   "cell_type": "code",
   "execution_count": 13,
   "metadata": {},
   "outputs": [
    {
     "data": {
      "text/plain": [
       "array([0.   , 0.   , 0.   , 0.   , 0.   , 0.   , 0.   , 0.   , 0.125,\n",
       "       0.125, 0.25 , 0.25 , 1.   ])"
      ]
     },
     "execution_count": 13,
     "metadata": {},
     "output_type": "execute_result"
    }
   ],
   "source": [
    "xgb_fpr"
   ]
  },
  {
   "cell_type": "code",
   "execution_count": 14,
   "metadata": {},
   "outputs": [],
   "source": [
    "ada = pd.DataFrame({'fpr':ada_fpr, 'tpr':ada_tpr})\n",
    "ada.to_csv('./plots/adaroc.csv')"
   ]
  },
  {
   "cell_type": "code",
   "execution_count": 15,
   "metadata": {},
   "outputs": [],
   "source": [
    "gb = pd.DataFrame({'fpr':gb_fpr, 'tpr':gb_tpr})\n",
    "gb.to_csv('./plots/gbroc.csv')"
   ]
  },
  {
   "cell_type": "code",
   "execution_count": 16,
   "metadata": {},
   "outputs": [],
   "source": [
    "xgb = pd.DataFrame({'fpr':xgb_fpr, 'tpr':xgb_tpr})\n",
    "xgb.to_csv('./plots/xgbroc.csv')"
   ]
  },
  {
   "cell_type": "code",
   "execution_count": 17,
   "metadata": {},
   "outputs": [],
   "source": [
    "cat = pd.DataFrame({'fpr':cat_fpr, 'tpr':cat_tpr})\n",
    "cat.to_csv('./plots/catroc.csv')"
   ]
  },
  {
   "cell_type": "code",
   "execution_count": null,
   "metadata": {},
   "outputs": [],
   "source": []
  }
 ],
 "metadata": {
  "kernelspec": {
   "display_name": "Python 3",
   "language": "python",
   "name": "python3"
  },
  "language_info": {
   "codemirror_mode": {
    "name": "ipython",
    "version": 3
   },
   "file_extension": ".py",
   "mimetype": "text/x-python",
   "name": "python",
   "nbconvert_exporter": "python",
   "pygments_lexer": "ipython3",
   "version": "3.7.0"
  }
 },
 "nbformat": 4,
 "nbformat_minor": 4
}
