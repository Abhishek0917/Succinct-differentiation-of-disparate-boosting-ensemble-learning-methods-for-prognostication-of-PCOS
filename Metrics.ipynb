{
 "cells": [
  {
   "cell_type": "code",
   "execution_count": 1,
   "metadata": {},
   "outputs": [],
   "source": [
    "import numpy as np\n",
    "import pandas as pd\n",
    "import seaborn as sns\n",
    "import matplotlib.pyplot as plt\n",
    "import plotly.graph_objects as go\n",
    "from collections import Counter\n",
    "\n",
    "from sklearn.ensemble import BaggingClassifier\n",
    "from sklearn.model_selection import train_test_split\n",
    "from sklearn.ensemble import RandomForestClassifier\n",
    "from sklearn.ensemble import GradientBoostingClassifier\n",
    "from sklearn.ensemble import BaggingClassifier\n",
    "from sklearn.ensemble import AdaBoostClassifier\n",
    "from sklearn import tree\n",
    "import xgboost as xgb\n",
    "from catboost import CatBoostClassifier\n",
    "\n",
    "from sklearn.model_selection import StratifiedKFold, GridSearchCV\n",
    "from mlxtend.plotting import plot_confusion_matrix\n",
    "from sklearn.metrics import confusion_matrix, accuracy_score\n",
    "from sklearn.metrics import roc_curve, auc"
   ]
  },
  {
   "cell_type": "code",
   "execution_count": 2,
   "metadata": {},
   "outputs": [],
   "source": [
    "from joblib import load"
   ]
  },
  {
   "cell_type": "code",
   "execution_count": 3,
   "metadata": {},
   "outputs": [],
   "source": [
    "ada_clf = load('./savedModels/adaBoost.sav')\n",
    "gb_clf = load('./savedModels/gradBoost.sav')\n",
    "xgb_clf = load('./savedModels/xgBoost.sav')\n",
    "cat_clf = load('./savedModels/catBoostJoblib.sav')"
   ]
  },
  {
   "cell_type": "code",
   "execution_count": 4,
   "metadata": {},
   "outputs": [],
   "source": [
    "df = pd.read_csv('PCOS.csv')\n",
    "\n",
    "df.columns = ['time','diagnosed','result','age','overweight','weightgain','periods','conceiving','chinHair','cheeksHair',\n",
    "              'upperLipHair','betweenBreastHair','armsHair','innerThighHair','acneOrskinTag','hairThinning','darkPatch',\n",
    "              'tiredness','moodSwings','exercise','eatOutside','cannedFood','city']\n",
    "\n",
    "data = pd.DataFrame(df[df.diagnosed == 'Yes'])\n",
    "data.reset_index(drop = True, inplace = True)\n",
    "data.drop('time', axis = 1, inplace = True)\n",
    "data.weightgain.fillna('abc', inplace = True)\n",
    "\n",
    "def g(s):\n",
    "    if (s == 'Yes'):\n",
    "        return 1\n",
    "    if (s == 'No'):\n",
    "        return 0\n",
    "    if (s == 'YES'):\n",
    "        return 1\n",
    "    if (s == 'NO'):\n",
    "        return 0\n",
    "    if (s == 'abc'):\n",
    "        return 2\n",
    "\n",
    "data['Diagnosed'] = data.diagnosed.apply(g)\n",
    "data['Overweight'] = data.overweight.apply(g)\n",
    "data['Weightgain'] = data.weightgain.apply(g)\n",
    "data['Periods'] = data.periods.apply(g)\n",
    "data['Conceiving'] = data.conceiving.apply(g)\n",
    "data['AcneOrskinTag'] = data.acneOrskinTag.apply(g)\n",
    "data['HairThinning'] = data.hairThinning.apply(g)\n",
    "data['DarkPatch'] = data.darkPatch.apply(g)\n",
    "data['Tiredness'] = data.tiredness.apply(g)\n",
    "data['MoodSwings'] = data.moodSwings.apply(g)\n",
    "data['CannedFood'] = data.cannedFood.apply(g)\n",
    "data['City'] = data.city.apply(g)\n",
    "\n",
    "del data['diagnosed']\n",
    "del data['overweight']\n",
    "del data['weightgain']\n",
    "del data['periods']\n",
    "del data['conceiving']\n",
    "del data['acneOrskinTag']\n",
    "del data['hairThinning']\n",
    "del data['darkPatch']\n",
    "del data['tiredness']\n",
    "del data['moodSwings']\n",
    "del data['cannedFood']\n",
    "del data['city']\n",
    "\n",
    "data['result'] = data['result'].map({'Yes': 1, 'No': 0, 'Yes(Detected Positive)': 1, 'No(Detected Negative)': 0})\n",
    "\n",
    "X = data.drop(labels = [\"result\"],axis = 1)\n",
    "y = data.result\n",
    "\n",
    "X_train, X_test, y_train, y_test = train_test_split(X, y, test_size = 0.3)"
   ]
  },
  {
   "cell_type": "code",
   "execution_count": 5,
   "metadata": {},
   "outputs": [],
   "source": [
    "from scipy import stats\n",
    "\n",
    "pred_ada = ada_clf.predict(X_test)\n",
    "pred_gb = gb_clf.predict(X_test)\n",
    "pred_xgb = xgb_clf.predict(X_test)\n",
    "pred_cat = cat_clf.predict(X_test)\n",
    "\n",
    "final_pred = np.array([])\n",
    "for i in range(0,len(X_test)):\n",
    "    final_pred = np.append(final_pred, stats.mode([pred_ada[i], pred_gb[i], pred_xgb[i], pred_cat[i]]))"
   ]
  },
  {
   "cell_type": "code",
   "execution_count": 6,
   "metadata": {},
   "outputs": [
    {
     "name": "stdout",
     "output_type": "stream",
     "text": [
      "precision_ada: 0.9069767441860465\n",
      "precision_gb: 0.8695652173913043\n",
      "precision_xgb: 0.9090909090909091\n",
      "precision_cat: 0.9523809523809523\n",
      "======================================\n",
      "recall_ada: 0.975\n",
      "recall_gb: 1.0\n",
      "recall_xgb: 1.0\n",
      "recall_cat: 1.0\n",
      "======================================\n",
      "f1_score_ada: 0.9397590361445783\n",
      "f1_score_gb: 0.9302325581395349\n",
      "f1_score_xgb: 0.9523809523809523\n",
      "f1_score_cat: 0.975609756097561\n"
     ]
    }
   ],
   "source": [
    "from sklearn.metrics import f1_score, recall_score, precision_score\n",
    "\n",
    "#precision of ada_gb_xgb_cat\n",
    "print('precision_ada: {}'.format(precision_score(y_test, pred_ada, average = 'binary')))\n",
    "print('precision_gb: {}'.format(precision_score(y_test, pred_gb, average = 'binary')))\n",
    "print('precision_xgb: {}'.format(precision_score(y_test, pred_xgb, average = 'binary')))\n",
    "print('precision_cat: {}'.format(precision_score(y_test, pred_cat, average = 'binary')))\n",
    "print(\"======================================\")\n",
    "\n",
    "#recall of ada_gb_xgb_cat\n",
    "print('recall_ada: {}'.format(recall_score(y_test, pred_ada, average = 'binary')))\n",
    "print('recall_gb: {}'.format(recall_score(y_test, pred_gb, average = 'binary')))\n",
    "print('recall_xgb: {}'.format(recall_score(y_test, pred_xgb, average = 'binary')))\n",
    "print('recall_cat: {}'.format(recall_score(y_test, pred_cat, average = 'binary')))\n",
    "print(\"======================================\")\n",
    "\n",
    "# precision of ada_gb_xgb_cat \n",
    "print('f1_score_ada: {}'.format(f1_score(y_test, pred_ada, average = 'binary')))\n",
    "print('f1_score_gb: {}'.format(f1_score(y_test, pred_gb, average = 'binary')))\n",
    "print('f1_score_xgb: {}'.format(f1_score(y_test, pred_xgb, average = 'binary')))\n",
    "print('f1_score_cat: {}'.format(f1_score(y_test, pred_cat, average = 'binary')))"
   ]
  },
  {
   "cell_type": "code",
   "execution_count": 7,
   "metadata": {},
   "outputs": [],
   "source": [
    "from sklearn.metrics import average_precision_score\n",
    "from sklearn.metrics import precision_recall_curve\n",
    "from sklearn.metrics import plot_precision_recall_curve\n",
    "import matplotlib.pyplot as plt"
   ]
  },
  {
   "cell_type": "code",
   "execution_count": 8,
   "metadata": {},
   "outputs": [
    {
     "name": "stderr",
     "output_type": "stream",
     "text": [
      "c:\\users\\admin\\appdata\\local\\programs\\python\\python37\\lib\\site-packages\\sklearn\\utils\\deprecation.py:87: FutureWarning: Function plot_precision_recall_curve is deprecated; Function `plot_precision_recall_curve` is deprecated in 1.0 and will be removed in 1.2. Use one of the class methods: PrecisionRecallDisplay.from_predictions or PrecisionRecallDisplay.from_estimator.\n",
      "  warnings.warn(msg, category=FutureWarning)\n"
     ]
    },
    {
     "data": {
      "text/plain": [
       "Text(0.5, 1.0, 'Precision-Recall curve: AP=0.90')"
      ]
     },
     "execution_count": 8,
     "metadata": {},
     "output_type": "execute_result"
    },
    {
     "data": {
      "image/png": "[encoded data removed]",
      "text/plain": [
       "<Figure size 432x288 with 1 Axes>"
      ]
     },
     "metadata": {
      "needs_background": "light"
     },
     "output_type": "display_data"
    }
   ],
   "source": [
    "# AdaBoostClf\n",
    "\n",
    "average_precision = average_precision_score(y_test, pred_ada)\n",
    "disp = plot_precision_recall_curve(ada_clf, X_test, y_test)\n",
    "disp.ax_.set_title('Precision-Recall curve: '\n",
    "                   'AP={0:0.2f}'.format(average_precision))"
   ]
  },
  {
   "cell_type": "code",
   "execution_count": 9,
   "metadata": {},
   "outputs": [
    {
     "data": {
      "text/plain": [
       "array([0.85106383, 0.84782609, 0.86666667, 0.88636364, 0.90697674,\n",
       "       0.92857143, 0.92682927, 0.95      , 0.94871795, 0.94736842,\n",
       "       0.94594595, 0.94444444, 0.97142857, 0.97058824, 0.96969697,\n",
       "       0.96875   , 0.96774194, 0.96666667, 0.96551724, 0.96428571,\n",
       "       0.96296296, 0.96153846, 0.96      , 0.95833333, 0.95652174,\n",
       "       0.95454545, 0.95238095, 1.        , 1.        , 1.        ,\n",
       "       1.        , 1.        , 1.        , 1.        , 1.        ,\n",
       "       1.        , 1.        , 1.        , 1.        , 1.        ,\n",
       "       1.        , 1.        , 1.        , 1.        , 1.        ,\n",
       "       1.        , 1.        , 1.        ])"
      ]
     },
     "execution_count": 9,
     "metadata": {},
     "output_type": "execute_result"
    }
   ],
   "source": [
    "disp.precision"
   ]
  },
  {
   "cell_type": "code",
   "execution_count": 10,
   "metadata": {},
   "outputs": [
    {
     "data": {
      "text/plain": [
       "array([1.   , 0.975, 0.975, 0.975, 0.975, 0.975, 0.95 , 0.95 , 0.925,\n",
       "       0.9  , 0.875, 0.85 , 0.85 , 0.825, 0.8  , 0.775, 0.75 , 0.725,\n",
       "       0.7  , 0.675, 0.65 , 0.625, 0.6  , 0.575, 0.55 , 0.525, 0.5  ,\n",
       "       0.5  , 0.475, 0.45 , 0.425, 0.4  , 0.375, 0.35 , 0.325, 0.3  ,\n",
       "       0.275, 0.25 , 0.225, 0.2  , 0.175, 0.15 , 0.125, 0.1  , 0.075,\n",
       "       0.05 , 0.025, 0.   ])"
      ]
     },
     "execution_count": 10,
     "metadata": {},
     "output_type": "execute_result"
    }
   ],
   "source": [
    "disp.recall"
   ]
  },
  {
   "cell_type": "code",
   "execution_count": 11,
   "metadata": {},
   "outputs": [
    {
     "data": {
      "text/plain": [
       "0.9767561214955266"
      ]
     },
     "execution_count": 11,
     "metadata": {},
     "output_type": "execute_result"
    }
   ],
   "source": [
    "disp.average_precision"
   ]
  },
  {
   "cell_type": "code",
   "execution_count": 12,
   "metadata": {},
   "outputs": [
    {
     "data": {
      "text/plain": [
       "'AdaBoostClassifier'"
      ]
     },
     "execution_count": 12,
     "metadata": {},
     "output_type": "execute_result"
    }
   ],
   "source": [
    "disp.estimator_name"
   ]
  },
  {
   "cell_type": "code",
   "execution_count": 13,
   "metadata": {},
   "outputs": [
    {
     "name": "stderr",
     "output_type": "stream",
     "text": [
      "c:\\users\\admin\\appdata\\local\\programs\\python\\python37\\lib\\site-packages\\sklearn\\utils\\deprecation.py:87: FutureWarning: Function plot_precision_recall_curve is deprecated; Function `plot_precision_recall_curve` is deprecated in 1.0 and will be removed in 1.2. Use one of the class methods: PrecisionRecallDisplay.from_predictions or PrecisionRecallDisplay.from_estimator.\n",
      "  warnings.warn(msg, category=FutureWarning)\n"
     ]
    },
    {
     "data": {
      "image/png": "[encoded data removed]",
      "text/plain": [
       "<Figure size 432x288 with 1 Axes>"
      ]
     },
     "metadata": {
      "needs_background": "light"
     },
     "output_type": "display_data"
    }
   ],
   "source": [
    "#Gradient Boosting\n",
    "gb_disp = plot_precision_recall_curve(gb_clf, X_test, y_test)"
   ]
  },
  {
   "cell_type": "code",
   "execution_count": 14,
   "metadata": {},
   "outputs": [
    {
     "name": "stderr",
     "output_type": "stream",
     "text": [
      "c:\\users\\admin\\appdata\\local\\programs\\python\\python37\\lib\\site-packages\\sklearn\\utils\\deprecation.py:87: FutureWarning: Function plot_precision_recall_curve is deprecated; Function `plot_precision_recall_curve` is deprecated in 1.0 and will be removed in 1.2. Use one of the class methods: PrecisionRecallDisplay.from_predictions or PrecisionRecallDisplay.from_estimator.\n",
      "  warnings.warn(msg, category=FutureWarning)\n"
     ]
    },
    {
     "data": {
      "image/png": "[encoded data removed]",
      "text/plain": [
       "<Figure size 432x288 with 1 Axes>"
      ]
     },
     "metadata": {
      "needs_background": "light"
     },
     "output_type": "display_data"
    }
   ],
   "source": [
    "xgb_disp = plot_precision_recall_curve(xgb_clf, X_test, y_test)"
   ]
  },
  {
   "cell_type": "code",
   "execution_count": 15,
   "metadata": {},
   "outputs": [
    {
     "name": "stderr",
     "output_type": "stream",
     "text": [
      "c:\\users\\admin\\appdata\\local\\programs\\python\\python37\\lib\\site-packages\\sklearn\\utils\\deprecation.py:87: FutureWarning: Function plot_precision_recall_curve is deprecated; Function `plot_precision_recall_curve` is deprecated in 1.0 and will be removed in 1.2. Use one of the class methods: PrecisionRecallDisplay.from_predictions or PrecisionRecallDisplay.from_estimator.\n",
      "  warnings.warn(msg, category=FutureWarning)\n"
     ]
    },
    {
     "data": {
      "image/png": "[encoded data removed]",
      "text/plain": [
       "<Figure size 432x288 with 1 Axes>"
      ]
     },
     "metadata": {
      "needs_background": "light"
     },
     "output_type": "display_data"
    }
   ],
   "source": [
    "cat_disp = plot_precision_recall_curve(cat_clf, X_test, y_test)"
   ]
  },
  {
   "cell_type": "code",
   "execution_count": 16,
   "metadata": {},
   "outputs": [],
   "source": [
    "metrics = pd.DataFrame(disp.precision, columns=['ada_precision'])"
   ]
  },
  {
   "cell_type": "code",
   "execution_count": 17,
   "metadata": {},
   "outputs": [
    {
     "data": {
      "text/html": [
       "<div>\n",
       "<style scoped>\n",
       "    .dataframe tbody tr th:only-of-type {\n",
       "        vertical-align: middle;\n",
       "    }\n",
       "\n",
       "    .dataframe tbody tr th {\n",
       "        vertical-align: top;\n",
       "    }\n",
       "\n",
       "    .dataframe thead th {\n",
       "        text-align: right;\n",
       "    }\n",
       "</style>\n",
       "<table border=\"1\" class=\"dataframe\">\n",
       "  <thead>\n",
       "    <tr style=\"text-align: right;\">\n",
       "      <th></th>\n",
       "      <th>ada_precision</th>\n",
       "    </tr>\n",
       "  </thead>\n",
       "  <tbody>\n",
       "    <tr>\n",
       "      <th>0</th>\n",
       "      <td>0.851064</td>\n",
       "    </tr>\n",
       "    <tr>\n",
       "      <th>1</th>\n",
       "      <td>0.847826</td>\n",
       "    </tr>\n",
       "    <tr>\n",
       "      <th>2</th>\n",
       "      <td>0.866667</td>\n",
       "    </tr>\n",
       "    <tr>\n",
       "      <th>3</th>\n",
       "      <td>0.886364</td>\n",
       "    </tr>\n",
       "    <tr>\n",
       "      <th>4</th>\n",
       "      <td>0.906977</td>\n",
       "    </tr>\n",
       "  </tbody>\n",
       "</table>\n",
       "</div>"
      ],
      "text/plain": [
       "   ada_precision\n",
       "0       0.851064\n",
       "1       0.847826\n",
       "2       0.866667\n",
       "3       0.886364\n",
       "4       0.906977"
      ]
     },
     "execution_count": 17,
     "metadata": {},
     "output_type": "execute_result"
    }
   ],
   "source": [
    "metrics.head()"
   ]
  },
  {
   "cell_type": "code",
   "execution_count": 18,
   "metadata": {},
   "outputs": [],
   "source": [
    "metrics['ada_recall'] = disp.recall"
   ]
  },
  {
   "cell_type": "code",
   "execution_count": 19,
   "metadata": {},
   "outputs": [
    {
     "data": {
      "text/plain": [
       "(48, 2)"
      ]
     },
     "execution_count": 19,
     "metadata": {},
     "output_type": "execute_result"
    }
   ],
   "source": [
    "metrics.shape"
   ]
  },
  {
   "cell_type": "code",
   "execution_count": 20,
   "metadata": {},
   "outputs": [],
   "source": [
    "metrics.to_csv('./plots/adapr.csv')"
   ]
  },
  {
   "cell_type": "code",
   "execution_count": 21,
   "metadata": {},
   "outputs": [],
   "source": [
    "gbm_pr = pd.DataFrame({'gbm_precision':gb_disp.precision, 'gbm_recall':gb_disp.recall})"
   ]
  },
  {
   "cell_type": "code",
   "execution_count": 22,
   "metadata": {},
   "outputs": [],
   "source": [
    "gbm_pr.to_csv('./plots/gbmpr.csv')"
   ]
  },
  {
   "cell_type": "code",
   "execution_count": 23,
   "metadata": {},
   "outputs": [],
   "source": [
    "xg_pr = pd.DataFrame({'xg_precision':xgb_disp.precision, 'xg_recall':xgb_disp.recall})"
   ]
  },
  {
   "cell_type": "code",
   "execution_count": 24,
   "metadata": {},
   "outputs": [],
   "source": [
    "xg_pr.to_csv('./plots/xgpr.csv')"
   ]
  },
  {
   "cell_type": "code",
   "execution_count": 25,
   "metadata": {},
   "outputs": [],
   "source": [
    "cat_pr = pd.DataFrame({'cat_precision':cat_disp.precision, 'cat_recall':cat_disp.recall})\n",
    "cat_pr.to_csv('./plots/catpr.csv')"
   ]
  }
 ],
 "metadata": {
  "kernelspec": {
   "display_name": "Python 3",
   "language": "python",
   "name": "python3"
  },
  "language_info": {
   "codemirror_mode": {
    "name": "ipython",
    "version": 3
   },
   "file_extension": ".py",
   "mimetype": "text/x-python",
   "name": "python",
   "nbconvert_exporter": "python",
   "pygments_lexer": "ipython3",
   "version": "3.7.0"
  }
 },
 "nbformat": 4,
 "nbformat_minor": 4
}
